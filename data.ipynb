{
 "cells": [
  {
   "cell_type": "code",
   "execution_count": 2,
   "metadata": {},
   "outputs": [],
   "source": [
    "# Add any necessary imports here (as we go along)\n",
    "import pandas as pd\n",
    "from matplotlib import pyplot as plt"
   ]
  },
  {
   "cell_type": "code",
   "execution_count": 8,
   "metadata": {},
   "outputs": [
    {
     "name": "stdout",
     "output_type": "stream",
     "text": [
      "         Date        Open       Close\n",
      "0  2015-01-02  151.500000  149.169998\n",
      "1  2015-01-05  148.809998  147.000000\n",
      "2  2015-01-06  147.639999  146.839996\n",
      "3  2015-01-07  147.940002  148.880005\n",
      "4  2015-01-08  150.600006  151.369995\n"
     ]
    },
    {
     "ename": "TypeError",
     "evalue": "Cannot change data-type for object array.",
     "output_type": "error",
     "traceback": [
      "\u001b[1;31m---------------------------------------------------------------------------\u001b[0m",
      "\u001b[1;31mTypeError\u001b[0m                                 Traceback (most recent call last)",
      "Cell \u001b[1;32mIn[8], line 7\u001b[0m\n\u001b[0;32m      4\u001b[0m firstDF \u001b[38;5;241m=\u001b[39m pd\u001b[38;5;241m.\u001b[39mread_csv(\u001b[38;5;124m'\u001b[39m\u001b[38;5;124mstocks.csv\u001b[39m\u001b[38;5;124m'\u001b[39m)[[\u001b[38;5;124m'\u001b[39m\u001b[38;5;124mDate\u001b[39m\u001b[38;5;124m'\u001b[39m, \u001b[38;5;124m'\u001b[39m\u001b[38;5;124mOpen\u001b[39m\u001b[38;5;124m'\u001b[39m, \u001b[38;5;124m'\u001b[39m\u001b[38;5;124mClose\u001b[39m\u001b[38;5;124m'\u001b[39m]]\n\u001b[0;32m      5\u001b[0m \u001b[38;5;28mprint\u001b[39m(firstDF\u001b[38;5;241m.\u001b[39mhead())\n\u001b[1;32m----> 7\u001b[0m firstDF[\u001b[38;5;124m'\u001b[39m\u001b[38;5;124mDate\u001b[39m\u001b[38;5;124m'\u001b[39m] \u001b[38;5;241m=\u001b[39m firstDF[\u001b[38;5;124m'\u001b[39m\u001b[38;5;124mDate\u001b[39m\u001b[38;5;124m'\u001b[39m]\u001b[38;5;241m.\u001b[39mview(\u001b[38;5;28mint\u001b[39m)\u001b[38;5;241m/\u001b[39m\u001b[38;5;241m/\u001b[39m\u001b[38;5;241m1e9\u001b[39m\n\u001b[0;32m      8\u001b[0m \u001b[38;5;28mprint\u001b[39m(firstDF\u001b[38;5;241m.\u001b[39mhead())\n",
      "File \u001b[1;32mc:\\Users\\evana\\anaconda3\\Lib\\site-packages\\pandas\\core\\series.py:838\u001b[0m, in \u001b[0;36mSeries.view\u001b[1;34m(self, dtype)\u001b[0m\n\u001b[0;32m    771\u001b[0m \u001b[38;5;250m\u001b[39m\u001b[38;5;124;03m\"\"\"\u001b[39;00m\n\u001b[0;32m    772\u001b[0m \u001b[38;5;124;03mCreate a new view of the Series.\u001b[39;00m\n\u001b[0;32m    773\u001b[0m \n\u001b[1;32m   (...)\u001b[0m\n\u001b[0;32m    834\u001b[0m \u001b[38;5;124;03mdtype: int8\u001b[39;00m\n\u001b[0;32m    835\u001b[0m \u001b[38;5;124;03m\"\"\"\u001b[39;00m\n\u001b[0;32m    836\u001b[0m \u001b[38;5;66;03m# self.array instead of self._values so we piggyback on PandasArray\u001b[39;00m\n\u001b[0;32m    837\u001b[0m \u001b[38;5;66;03m#  implementation\u001b[39;00m\n\u001b[1;32m--> 838\u001b[0m res_values \u001b[38;5;241m=\u001b[39m \u001b[38;5;28mself\u001b[39m\u001b[38;5;241m.\u001b[39marray\u001b[38;5;241m.\u001b[39mview(dtype)\n\u001b[0;32m    839\u001b[0m res_ser \u001b[38;5;241m=\u001b[39m \u001b[38;5;28mself\u001b[39m\u001b[38;5;241m.\u001b[39m_constructor(res_values, index\u001b[38;5;241m=\u001b[39m\u001b[38;5;28mself\u001b[39m\u001b[38;5;241m.\u001b[39mindex)\n\u001b[0;32m    840\u001b[0m \u001b[38;5;28;01mreturn\u001b[39;00m res_ser\u001b[38;5;241m.\u001b[39m__finalize__(\u001b[38;5;28mself\u001b[39m, method\u001b[38;5;241m=\u001b[39m\u001b[38;5;124m\"\u001b[39m\u001b[38;5;124mview\u001b[39m\u001b[38;5;124m\"\u001b[39m)\n",
      "File \u001b[1;32mc:\\Users\\evana\\anaconda3\\Lib\\site-packages\\pandas\\core\\arrays\\_mixins.py:131\u001b[0m, in \u001b[0;36mNDArrayBackedExtensionArray.view\u001b[1;34m(self, dtype)\u001b[0m\n\u001b[0;32m    126\u001b[0m     \u001b[38;5;28;01mreturn\u001b[39;00m \u001b[38;5;28mself\u001b[39m\u001b[38;5;241m.\u001b[39m_from_backing_data(\u001b[38;5;28mself\u001b[39m\u001b[38;5;241m.\u001b[39m_ndarray)\n\u001b[0;32m    128\u001b[0m \u001b[38;5;28;01mif\u001b[39;00m \u001b[38;5;28misinstance\u001b[39m(dtype, \u001b[38;5;28mtype\u001b[39m):\n\u001b[0;32m    129\u001b[0m     \u001b[38;5;66;03m# we sometimes pass non-dtype objects, e.g np.ndarray;\u001b[39;00m\n\u001b[0;32m    130\u001b[0m     \u001b[38;5;66;03m#  pass those through to the underlying ndarray\u001b[39;00m\n\u001b[1;32m--> 131\u001b[0m     \u001b[38;5;28;01mreturn\u001b[39;00m \u001b[38;5;28mself\u001b[39m\u001b[38;5;241m.\u001b[39m_ndarray\u001b[38;5;241m.\u001b[39mview(dtype)\n\u001b[0;32m    133\u001b[0m dtype \u001b[38;5;241m=\u001b[39m pandas_dtype(dtype)\n\u001b[0;32m    134\u001b[0m arr \u001b[38;5;241m=\u001b[39m \u001b[38;5;28mself\u001b[39m\u001b[38;5;241m.\u001b[39m_ndarray\n",
      "File \u001b[1;32mc:\\Users\\evana\\anaconda3\\Lib\\site-packages\\numpy\\core\\_internal.py:548\u001b[0m, in \u001b[0;36m_view_is_safe\u001b[1;34m(oldtype, newtype)\u001b[0m\n\u001b[0;32m    545\u001b[0m     \u001b[38;5;28;01mreturn\u001b[39;00m\n\u001b[0;32m    547\u001b[0m \u001b[38;5;28;01mif\u001b[39;00m newtype\u001b[38;5;241m.\u001b[39mhasobject \u001b[38;5;129;01mor\u001b[39;00m oldtype\u001b[38;5;241m.\u001b[39mhasobject:\n\u001b[1;32m--> 548\u001b[0m     \u001b[38;5;28;01mraise\u001b[39;00m \u001b[38;5;167;01mTypeError\u001b[39;00m(\u001b[38;5;124m\"\u001b[39m\u001b[38;5;124mCannot change data-type for object array.\u001b[39m\u001b[38;5;124m\"\u001b[39m)\n\u001b[0;32m    549\u001b[0m \u001b[38;5;28;01mreturn\u001b[39;00m\n",
      "\u001b[1;31mTypeError\u001b[0m: Cannot change data-type for object array."
     ]
    }
   ],
   "source": [
    "# Parse CSV\n",
    "# Data pulled from https://www.kaggle.com/datasets/umerhaddii/berkshire-hathaway-stock-price-data\n",
    "# Using the data curation from https://github.com/hemangjoshi37a/TrendMaster/blob/main/trendmaster/data_loader.py\n",
    "firstDF = pd.read_csv('stocks.csv')[['Date', 'Open', 'Close']]\n",
    "print(firstDF.head())\n",
    "\n",
    "firstDF['Date'] = firstDF['Date'].view(int)//1e9\n",
    "print(firstDF.head())\n",
    "\n",
    "# Display data\n",
    "# plt.figure(figsize=(10, 6))\n",
    "# plt.plot(firstDF['Date'].values, firstDF['Open'].values)\n",
    "# plt.show()\n",
    "\n",
    "# Convert raw dataframe into average price over time\n",
    "\n",
    "\n",
    "# Split this data into train and test data\n",
    "# Plot this data\n",
    "\n",
    "\n",
    "# Read this README.md https://github.com/lkulowski/LSTM_encoder_decoder/tree/master\n",
    "# Create a scrolling window based on two parameters: input size and target size\n",
    "\n",
    "\n",
    "# Model's Input: list, where a number corresponds to the average price of a stock for that day"
   ]
  }
 ],
 "metadata": {
  "kernelspec": {
   "display_name": "base",
   "language": "python",
   "name": "python3"
  },
  "language_info": {
   "codemirror_mode": {
    "name": "ipython",
    "version": 3
   },
   "file_extension": ".py",
   "mimetype": "text/x-python",
   "name": "python",
   "nbconvert_exporter": "python",
   "pygments_lexer": "ipython3",
   "version": "3.11.4"
  }
 },
 "nbformat": 4,
 "nbformat_minor": 2
}
